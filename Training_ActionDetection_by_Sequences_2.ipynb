{
 "cells": [
  {
   "cell_type": "markdown",
   "metadata": {},
   "source": [
    "# 0. Install and Import Dependencies"
   ]
  },
  {
   "cell_type": "code",
   "execution_count": 6,
   "metadata": {},
   "outputs": [],
   "source": [
    "import os\n",
    "import glob\n",
    "import cv2 as cv\n",
    "import mediapipe as mp\n",
    "import numpy as np\n",
    "import pandas as pd\n",
    "from sklearn.model_selection import train_test_split\n",
    "from sklearn.preprocessing import LabelEncoder\n",
    "import tensorflow as tf\n",
    "from tensorflow.keras import layers\n",
    "from sklearn.metrics import confusion_matrix, classification_report"
   ]
  },
  {
   "cell_type": "markdown",
   "metadata": {},
   "source": [
    "# 1. Loading a Video and Saving Frames in Sequences"
   ]
  },
  {
   "cell_type": "code",
   "execution_count": 7,
   "metadata": {},
   "outputs": [],
   "source": [
    "# Classes: 3 subfolders within 'Single_person_violent' => Kicking, Punching, Non-violent\n",
    "CLASSES = [\"Kicking\", \"Punching\", \"Standing\"]\n",
    "\n",
    "# We will define a fixed sequence length to handle variable-length videos\n",
    "MAX_SEQ_LEN = 15 # example: 30 frames per video\n",
    "\n",
    "# Set how many frames to skip when reading a video (to reduce computational load)\n",
    "SKIP_RATE = 2  # example: capture 1 frame out of every 5"
   ]
  },
  {
   "cell_type": "markdown",
   "metadata": {},
   "source": [
    "# 2. Extract Pose Sequence from a Single Video"
   ]
  },
  {
   "cell_type": "markdown",
   "metadata": {},
   "source": [
    "This function opens a video file with OpenCV (cv.VideoCapture).\n",
    "\n",
    "It skips frames by advancing the capture index so we only process 1 out of every SKIP_RATE frames.\n",
    "\n",
    "For each processed frame, it uses MediaPipe Pose to detect 33 landmarks.\n",
    "\n",
    "Each landmark has 4 values: (x, y, z, visibility), so for 33 landmarks, we get 132 values in one frame.\n",
    "\n",
    "If no pose is detected, we append a zero vector (132 zeros).\n",
    "\n",
    "Finally, it returns a NumPy array of shape (T, 132), where T is the number of frames we processed in the video."
   ]
  },
  {
   "cell_type": "code",
   "execution_count": 8,
   "metadata": {},
   "outputs": [],
   "source": [
    "def ensure_vertical_orientation(frame):\n",
    "    height, width = frame.shape[:2]\n",
    "\n",
    "    if width > height:\n",
    "        # Rotate 90 degrees **clockwise** to make the frame portrait (not upside down)\n",
    "        frame = cv.rotate(frame, cv.ROTATE_90_CLOCKWISE)\n",
    "    \n",
    "    return frame\n"
   ]
  },
  {
   "cell_type": "code",
   "execution_count": 9,
   "metadata": {},
   "outputs": [],
   "source": [
    "def resize_frame(frame, target_width=720, target_height=1280):\n",
    "    \"\"\"\n",
    "    Resize the frame to a fixed size while preserving aspect ratio\n",
    "    and padding with black borders if needed.\n",
    "    \"\"\"\n",
    "    original_h, original_w = frame.shape[:2]\n",
    "    scale = min(target_width / original_w, target_height / original_h)\n",
    "    new_w = int(original_w * scale)\n",
    "    new_h = int(original_h * scale)\n",
    "\n",
    "    resized = cv.resize(frame, (new_w, new_h))\n",
    "\n",
    "    # Pad to target size (centered)\n",
    "    top = (target_height - new_h) // 2\n",
    "    bottom = target_height - new_h - top\n",
    "    left = (target_width - new_w) // 2\n",
    "    right = target_width - new_w - left\n",
    "\n",
    "    padded = cv.copyMakeBorder(resized, top, bottom, left, right, cv.BORDER_CONSTANT, value=[0, 0, 0])\n",
    "    return padded\n"
   ]
  },
  {
   "cell_type": "code",
   "execution_count": 10,
   "metadata": {},
   "outputs": [],
   "source": [
    "mp_pose = mp.solutions.pose\n",
    "pose = mp_pose.Pose(\n",
    "\tmin_detection_confidence=0.5,\n",
    "\tmin_tracking_confidence=0.5,\n",
    "\tmodel_complexity=1\n",
    ")"
   ]
  },
  {
   "cell_type": "code",
   "execution_count": 11,
   "metadata": {},
   "outputs": [],
   "source": [
    "def get_pose_sequence_from_video(video_path, skip_rate=5, visualize=False):\n",
    "\t\"\"\"\n",
    "\tOpens a video, rotates to vertical if needed, resizes every frame\n",
    "\tto a fixed size, and returns a NumPy array of shape (num_frames, 132)\n",
    "\tcontaining (x, y, z, visibility) for 33 pose landmarks.\n",
    "\t\"\"\"\n",
    "\tcap = cv.VideoCapture(video_path)\n",
    "\tsequence = []\n",
    "\n",
    "\twith mp_pose.Pose(min_detection_confidence=0.5, \n",
    "\t\t\t\t\t\tmin_tracking_confidence=0.5) as pose_model:\n",
    "\n",
    "\t\tframe_index = 0\n",
    "\t\twhile True:\n",
    "\t\t\tret, frame = cap.read()\n",
    "\t\t\tif not ret:\n",
    "\t\t\t\tbreak\n",
    "\t\t\t\n",
    "\t\t\tframe = ensure_vertical_orientation(frame)\n",
    "\t\t\tframe = resize_frame(frame, target_width=720, target_height=1280)\n",
    "\n",
    "\t\t\tif frame_index % skip_rate == 0:\n",
    "\t\t\t\trgb_frame = cv.cvtColor(frame, cv.COLOR_BGR2RGB)\n",
    "\t\t\t\tresults = pose_model.process(rgb_frame)\n",
    "\n",
    "\t\t\t\tif results.pose_landmarks:\n",
    "\t\t\t\t\tkeypoints = []\n",
    "\t\t\t\t\tfor lm in results.pose_landmarks.landmark:\n",
    "\t\t\t\t\t\tkeypoints.extend([lm.x, lm.y, lm.z, lm.visibility])\n",
    "\t\t\t\t\tsequence.append(keypoints)\n",
    "\t\t\t\telse:\n",
    "\t\t\t\t\tsequence.append([0]*132)\n",
    "\n",
    "\n",
    "\t\t\t# ✅ Show frame for visual inspection\n",
    "\t\t\tif visualize:\n",
    "\t\t\t\tcv.imshow(\"Pose Frame (Press 'q' to quit)\", frame)\n",
    "\t\t\t\tif cv.waitKey(10) & 0xFF == ord('q'):\n",
    "\t\t\t\t\tbreak\n",
    " \n",
    "\t\t\tframe_index += 1\n",
    "\n",
    "\tcap.release()\n",
    "\treturn np.array(sequence)"
   ]
  },
  {
   "cell_type": "code",
   "execution_count": 49,
   "metadata": {},
   "outputs": [],
   "source": [
    "# get_pose_sequence_from_video(\"Single_person_violent\\Punching\\punching1.mp4\", skip_rate=SKIP_RATE, visualize=True)"
   ]
  },
  {
   "cell_type": "markdown",
   "metadata": {},
   "source": [
    "## 3. Building the Full Dataset by Loop through all videos (X_sequences, y_labels)"
   ]
  },
  {
   "cell_type": "markdown",
   "metadata": {},
   "source": [
    "We iterate over each subfolder (Kick, Punching, Non-violent) under Single_person_violent.\n",
    "\n",
    "For each video, we call get_pose_sequence_from_video with our chosen SKIP_RATE.\n",
    "\n",
    "We store the resulting array (T, 132) in a list, and store the string label (e.g. \"Kick\") in another list.\n",
    "\n",
    "We will end up with X_sequences[i] as the 2D array of skeleton data, and y_labels[i] as the corresponding string label.\n",
    "\n",
    "Note: At this point, X_sequences[i] might have different lengths because each video can have a different number of frames."
   ]
  },
  {
   "cell_type": "code",
   "execution_count": 50,
   "metadata": {},
   "outputs": [
    {
     "name": "stdout",
     "output_type": "stream",
     "text": [
      "['Single_person_violent\\\\Kicking\\\\kicking1.mp4', 'Single_person_violent\\\\Kicking\\\\kicking10.mp4', 'Single_person_violent\\\\Kicking\\\\kicking11.mp4', 'Single_person_violent\\\\Kicking\\\\kicking12.mp4', 'Single_person_violent\\\\Kicking\\\\kicking13.mp4', 'Single_person_violent\\\\Kicking\\\\kicking14.mp4', 'Single_person_violent\\\\Kicking\\\\kicking15.mp4', 'Single_person_violent\\\\Kicking\\\\kicking16.mp4', 'Single_person_violent\\\\Kicking\\\\kicking17.mp4', 'Single_person_violent\\\\Kicking\\\\kicking18.mp4', 'Single_person_violent\\\\Kicking\\\\kicking19.mp4', 'Single_person_violent\\\\Kicking\\\\kicking2.mp4', 'Single_person_violent\\\\Kicking\\\\kicking20.mp4', 'Single_person_violent\\\\Kicking\\\\kicking21.mp4', 'Single_person_violent\\\\Kicking\\\\kicking22.mp4', 'Single_person_violent\\\\Kicking\\\\kicking3.mp4', 'Single_person_violent\\\\Kicking\\\\kicking4.mp4', 'Single_person_violent\\\\Kicking\\\\kicking5.mp4', 'Single_person_violent\\\\Kicking\\\\kicking6.mp4', 'Single_person_violent\\\\Kicking\\\\kicking7.mp4', 'Single_person_violent\\\\Kicking\\\\kicking8.mp4', 'Single_person_violent\\\\Kicking\\\\kicking9.mp4', 'Single_person_violent\\\\Kicking\\\\kicking22.avi', 'Single_person_violent\\\\Kicking\\\\kicking22_flipped.avi', 'Single_person_violent\\\\Kicking\\\\kicking23.avi', 'Single_person_violent\\\\Kicking\\\\kicking23_flipped.avi']\n",
      "Kicking\n",
      "['Single_person_violent\\\\Punching\\\\punching10.mp4', 'Single_person_violent\\\\Punching\\\\punching11.mp4', 'Single_person_violent\\\\Punching\\\\punching12.mp4', 'Single_person_violent\\\\Punching\\\\punching13.mp4', 'Single_person_violent\\\\Punching\\\\punching14.mp4', 'Single_person_violent\\\\Punching\\\\punching15.mp4', 'Single_person_violent\\\\Punching\\\\punching16.mp4', 'Single_person_violent\\\\Punching\\\\punching17.mp4', 'Single_person_violent\\\\Punching\\\\Punching3.mp4', 'Single_person_violent\\\\Punching\\\\punching33.mp4', 'Single_person_violent\\\\Punching\\\\punching34.mp4', 'Single_person_violent\\\\Punching\\\\punching35.mp4', 'Single_person_violent\\\\Punching\\\\punching36.mp4', 'Single_person_violent\\\\Punching\\\\punching37.mp4', 'Single_person_violent\\\\Punching\\\\punching4.mp4', 'Single_person_violent\\\\Punching\\\\punching5.mp4', 'Single_person_violent\\\\Punching\\\\punching6.mp4', 'Single_person_violent\\\\Punching\\\\punching7.mp4', 'Single_person_violent\\\\Punching\\\\punching8.mp4', 'Single_person_violent\\\\Punching\\\\punching9.mp4']\n",
      "Punching\n",
      "['Single_person_violent\\\\Standing\\\\standing_me1.mp4', 'Single_person_violent\\\\Standing\\\\standing_me2.mp4', 'Single_person_violent\\\\Standing\\\\standing_me3.mp4', 'Single_person_violent\\\\Standing\\\\standing_me5.mp4', 'Single_person_violent\\\\Standing\\\\standing_me6.mp4', 'Single_person_violent\\\\Standing\\\\video_0.avi', 'Single_person_violent\\\\Standing\\\\video_0_flip.avi', 'Single_person_violent\\\\Standing\\\\video_12.avi', 'Single_person_violent\\\\Standing\\\\video_13.avi', 'Single_person_violent\\\\Standing\\\\video_13_flip.avi', 'Single_person_violent\\\\Standing\\\\video_14.avi', 'Single_person_violent\\\\Standing\\\\video_15.avi', 'Single_person_violent\\\\Standing\\\\video_15_flip.avi', 'Single_person_violent\\\\Standing\\\\video_16_flip.avi', 'Single_person_violent\\\\Standing\\\\video_18_flip.avi', 'Single_person_violent\\\\Standing\\\\video_19_flip.avi', 'Single_person_violent\\\\Standing\\\\video_2.avi', 'Single_person_violent\\\\Standing\\\\video_20.avi', 'Single_person_violent\\\\Standing\\\\video_22.avi', 'Single_person_violent\\\\Standing\\\\video_23.avi', 'Single_person_violent\\\\Standing\\\\video_23_flip.avi', 'Single_person_violent\\\\Standing\\\\video_24.avi', 'Single_person_violent\\\\Standing\\\\video_24_flip.avi', 'Single_person_violent\\\\Standing\\\\video_25.avi', 'Single_person_violent\\\\Standing\\\\video_25_flip.avi', 'Single_person_violent\\\\Standing\\\\video_26.avi', 'Single_person_violent\\\\Standing\\\\video_27.avi', 'Single_person_violent\\\\Standing\\\\video_27_flip.avi', 'Single_person_violent\\\\Standing\\\\video_28.avi', 'Single_person_violent\\\\Standing\\\\video_28_flip.avi', 'Single_person_violent\\\\Standing\\\\video_29.avi', 'Single_person_violent\\\\Standing\\\\video_29_flip.avi', 'Single_person_violent\\\\Standing\\\\video_2_flip.avi', 'Single_person_violent\\\\Standing\\\\video_3.avi', 'Single_person_violent\\\\Standing\\\\video_31_flip.avi', 'Single_person_violent\\\\Standing\\\\video_3_flip.avi', 'Single_person_violent\\\\Standing\\\\video_4.avi', 'Single_person_violent\\\\Standing\\\\video_4_flip.avi', 'Single_person_violent\\\\Standing\\\\video_5_flip.avi', 'Single_person_violent\\\\Standing\\\\video_7_flip.avi', 'Single_person_violent\\\\Standing\\\\video_8.avi', 'Single_person_violent\\\\Standing\\\\video_8_flip.avi', 'Single_person_violent\\\\Standing\\\\video_9.avi', 'Single_person_violent\\\\Standing\\\\video_9_flip.avi']\n",
      "Standing\n"
     ]
    }
   ],
   "source": [
    "import glob # for file path matching\n",
    "\n",
    "BASE_DIR = \"Single_person_violent\"  # your main dataset folder\n",
    "X_sequences = []\n",
    "y_labels = []\n",
    "\n",
    "#? Loop through each class directory (e.g. \"Kicking\", \"Punching\", \"Non-violent\")\n",
    "for cls in CLASSES:  # e.g. \"Kick\", \"Punching\", \"Non-violent\"\n",
    "    class_dir = os.path.join(BASE_DIR, cls)\n",
    "    \n",
    "    #? Use glob to list all .mp4 or .avi files\n",
    "    video_paths = glob.glob(os.path.join(class_dir, \"*.mp4\")) + glob.glob(os.path.join(class_dir, \"*.avi\"))\n",
    "    \n",
    "    print(video_paths)\n",
    "    print(cls)\n",
    "\n",
    "    #? For each video file in the class directory\n",
    "    for vid_path in video_paths:\n",
    "        seq = get_pose_sequence_from_video(vid_path, skip_rate=SKIP_RATE)\n",
    "        \n",
    "        # If the video has at least 1 frame successfully processed, append\n",
    "        if seq.shape[0] > 0:\n",
    "            X_sequences.append(seq)\n",
    "            y_labels.append(cls)\n",
    "        else:\n",
    "            print(f\"No frames extracted from {vid_path} (possibly empty or skip too high).\")"
   ]
  },
  {
   "cell_type": "markdown",
   "metadata": {},
   "source": [
    "### Save Preprocessed Data (`X_sequences` and `y_labels`) "
   ]
  },
  {
   "cell_type": "code",
   "execution_count": 51,
   "metadata": {},
   "outputs": [
    {
     "name": "stdout",
     "output_type": "stream",
     "text": [
      "✅ Saved 90 sequences to extracted_data/pose_dataset.npz\n"
     ]
    }
   ],
   "source": [
    "# Create output folder if it doesn't exist\n",
    "SAVE_DIR = \"extracted_data\"\n",
    "os.makedirs(SAVE_DIR, exist_ok=True)\n",
    "\n",
    "# Convert to NumPy arrays and save\n",
    "np.savez_compressed(\n",
    "    os.path.join(SAVE_DIR, \"pose_dataset_4.npz\"),\n",
    "    X=np.array(X_sequences, dtype=object),\n",
    "    y=np.array(y_labels)\n",
    ")\n",
    "\n",
    "print(f\"✅ Saved {len(X_sequences)} sequences to {SAVE_DIR}/pose_dataset.npz\")"
   ]
  },
  {
   "cell_type": "markdown",
   "metadata": {},
   "source": [
    "### Load Preprocessed Data"
   ]
  },
  {
   "cell_type": "code",
   "execution_count": 54,
   "metadata": {},
   "outputs": [
    {
     "name": "stdout",
     "output_type": "stream",
     "text": [
      "✅ Loaded 90 sequences.\n"
     ]
    }
   ],
   "source": [
    "data = np.load(\"extracted_data/pose_dataset_4.npz\", allow_pickle=True)\n",
    "X_sequences = list(data[\"X\"])\n",
    "y_labels = list(data[\"y\"])\n",
    "\n",
    "print(f\"✅ Loaded {len(X_sequences)} sequences.\")"
   ]
  },
  {
   "cell_type": "code",
   "execution_count": 55,
   "metadata": {},
   "outputs": [
    {
     "data": {
      "text/plain": [
       "(169, 132)"
      ]
     },
     "execution_count": 55,
     "metadata": {},
     "output_type": "execute_result"
    }
   ],
   "source": [
    "X_sequences[24].shape"
   ]
  },
  {
   "cell_type": "markdown",
   "metadata": {},
   "source": [
    "## 4. Pad or Truncate Sequences\n",
    "LSTM/GRU networks expect uniform sequence lengths in a batch.\n",
    "\n",
    "We define a function pad_or_truncate_sequence that ensures each sequence has exactly MAX_SEQ_LEN frames.\n",
    "\n",
    "+ If a sequence is longer than MAX_SEQ_LEN, we take the first MAX_SEQ_LEN frames.\n",
    "\n",
    "+ If it’s shorter, we pad with zeros at the end."
   ]
  },
  {
   "cell_type": "markdown",
   "metadata": {},
   "source": [
    "### Sequence Standardization \n",
    "Videos inherently vary in length, resulting in sequences of different frame counts. To address this variability, sequences are standardized to a fixed length defined by `MAX_SEQ_LEN`. Shorter sequences are padded with zeros, while longer sequences are truncated, ensuring uniform input dimensions for the Deep Neural Network.\n",
    "    "
   ]
  },
  {
   "cell_type": "code",
   "execution_count": null,
   "metadata": {},
   "outputs": [],
   "source": [
    "STRIDE = 1"
   ]
  },
  {
   "cell_type": "code",
   "execution_count": 57,
   "metadata": {},
   "outputs": [],
   "source": [
    "# def segment_sequence(sequence, max_seq_len=MAX_SEQ_LEN, stride=STRIDE):\n",
    "#     \"\"\"\n",
    "#     Breaks a long pose sequence into overlapping sub-sequences (segments)\n",
    "#     using a sliding window of fixed length and stride.\n",
    "    \n",
    "#     Returns:\n",
    "#         segments: np.array of shape (num_segments, max_seq_len, 132)\n",
    "#     \"\"\"\n",
    "#     segments = []\n",
    "#     for i in range(0, len(sequence) - max_seq_len + 1, stride):\n",
    "#         segment = sequence[i:i+max_seq_len]\n",
    "#         segments.append(segment)\n",
    "    \n",
    "#     return np.array(segments)\n"
   ]
  },
  {
   "cell_type": "code",
   "execution_count": null,
   "metadata": {},
   "outputs": [],
   "source": [
    "import numpy as np\n",
    "\n",
    "def segment_sequence_with_tail(seq, max_seq_len=5, stride=2):\n",
    "    \"\"\"\n",
    "    Breaks a long pose sequence into fixed‑length segments:\n",
    "      1) All full windows of length max_seq_len, stepping by stride\n",
    "      2) One final 'leftover' segment (the tail), padded to max_seq_len\n",
    "    If seq is shorter than max_seq_len, returns one padded segment.\n",
    "    Returns an array of shape (n_segments, max_seq_len, n_features).\n",
    "    \"\"\"\n",
    "    segments = []\n",
    "    L = len(seq) \n",
    "\n",
    "    # 1) Full windows\n",
    "    for i in range(0, L - max_seq_len + 1, stride):\n",
    "        segments.append(seq[i : i + max_seq_len])\n",
    "\n",
    "    # 2) Tail leftover\n",
    "    if L > max_seq_len:\n",
    "        # compute where the next window would start\n",
    "        last_full_start = ((L - max_seq_len) // stride) * stride\n",
    "        next_start = last_full_start + stride\n",
    "        if next_start < L:\n",
    "            tail = seq[next_start:]\n",
    "            # pad tail up to max_seq_len\n",
    "            pad_amt = max_seq_len - tail.shape[0]\n",
    "            tail_padded = np.vstack([\n",
    "                tail,\n",
    "                np.zeros((pad_amt, seq.shape[1]), dtype=seq.dtype)\n",
    "            ])\n",
    "            segments.append(tail_padded)\n",
    "    else:\n",
    "        # seq is shorter than max_seq_len: pad entire seq once\n",
    "        pad_amt = max_seq_len - L\n",
    "        padded = np.vstack([\n",
    "            seq,\n",
    "            np.zeros((pad_amt, seq.shape[1]), dtype=seq.dtype)\n",
    "        ])\n",
    "        segments = [padded]\n",
    "\n",
    "    return np.array(segments)\n"
   ]
  },
  {
   "cell_type": "code",
   "execution_count": 59,
   "metadata": {},
   "outputs": [],
   "source": [
    "def pad_or_truncate_sequence(seq, max_len=MAX_SEQ_LEN):\n",
    "    \"\"\"\n",
    "    seq: (T, 132) array for T frames\n",
    "    Returns an array of shape (max_len, 132).\n",
    "    \"\"\"\n",
    "    \n",
    "    length = seq.shape[0]\n",
    "    num_features = seq.shape[1]\n",
    "    \n",
    "    # print(length, num_features)\n",
    "    \n",
    "    if length > max_len:\n",
    "        # Truncate\n",
    "        return seq[:max_len, :]\n",
    "    else:\n",
    "        # Pad with zeros\n",
    "        padded = np.zeros((max_len, num_features))\n",
    "        padded[:length, :] = seq\n",
    "        return padded"
   ]
  },
  {
   "cell_type": "markdown",
   "metadata": {},
   "source": [
    "### Examine Video Sequence\n",
    "+ Sampled frames = ⌈5 frames ÷ 1⌉ = 5 frames\n",
    "+ Number of segments = (5 – 2) / 1 + 1 = 3 + 1 = 4\n",
    "\n",
    "Those four segments correspond to frame‑index windows:\n",
    "\n",
    "+   Segment 1: frames [0, 1]\n",
    "+   Segment 2: frames [1, 2]\n",
    "+   Segment 3: frames [2, 3]\n",
    "+   Segment 4: frames [3, 4]"
   ]
  },
  {
   "cell_type": "code",
   "execution_count": 83,
   "metadata": {},
   "outputs": [
    {
     "name": "stdout",
     "output_type": "stream",
     "text": [
      "Video: Single_person_violent/Punching/punching36.mp4\n",
      "  • Total frames  : 517\n",
      "  • Total segments: 124\n"
     ]
    }
   ],
   "source": [
    "import cv2\n",
    "\n",
    "def count_frames(video_path):\n",
    "    cap = cv2.VideoCapture(video_path)\n",
    "    total = int(cap.get(cv2.CAP_PROP_FRAME_COUNT))\n",
    "    cap.release()\n",
    "    return total\n",
    "\n",
    "def count_sequences(video_path, skip_rate=SKIP_RATE, max_seq_len=MAX_SEQ_LEN, stride=STRIDE):\n",
    "    # Assumes get_pose_sequence_from_video and segment_sequence are in scope\n",
    "    pose_seq = get_pose_sequence_from_video(video_path, skip_rate=skip_rate)\n",
    "    segments = segment_sequence_with_tail(pose_seq, max_seq_len=max_seq_len, stride=stride)\n",
    "    return len(segments)\n",
    "\n",
    "# Example:\n",
    "# video_path = \"Single_person_violent/Kicking/kicking24.mp4\"\n",
    "video_path = \"Single_person_violent/Punching/punching36.mp4\"\n",
    "n_frames = count_frames(video_path)\n",
    "n_seqs   = count_sequences(video_path, skip_rate=SKIP_RATE, max_seq_len=MAX_SEQ_LEN, stride=STRIDE)\n",
    "\n",
    "print(f\"Video: {video_path}\")\n",
    "print(f\"  • Total frames  : {n_frames}\")\n",
    "print(f\"  • Total segments: {n_seqs}\")\n"
   ]
  },
  {
   "cell_type": "code",
   "execution_count": 62,
   "metadata": {},
   "outputs": [
    {
     "name": "stdout",
     "output_type": "stream",
     "text": [
      "Sequence Length Statistics:\n"
     ]
    },
    {
     "data": {
      "text/html": [
       "<div>\n",
       "<style scoped>\n",
       "    .dataframe tbody tr th:only-of-type {\n",
       "        vertical-align: middle;\n",
       "    }\n",
       "\n",
       "    .dataframe tbody tr th {\n",
       "        vertical-align: top;\n",
       "    }\n",
       "\n",
       "    .dataframe thead th {\n",
       "        text-align: right;\n",
       "    }\n",
       "</style>\n",
       "<table border=\"1\" class=\"dataframe\">\n",
       "  <thead>\n",
       "    <tr style=\"text-align: right;\">\n",
       "      <th></th>\n",
       "      <th>Sequence_Length</th>\n",
       "    </tr>\n",
       "  </thead>\n",
       "  <tbody>\n",
       "    <tr>\n",
       "      <th>count</th>\n",
       "      <td>90.000000</td>\n",
       "    </tr>\n",
       "    <tr>\n",
       "      <th>mean</th>\n",
       "      <td>41.744444</td>\n",
       "    </tr>\n",
       "    <tr>\n",
       "      <th>std</th>\n",
       "      <td>45.320224</td>\n",
       "    </tr>\n",
       "    <tr>\n",
       "      <th>min</th>\n",
       "      <td>1.000000</td>\n",
       "    </tr>\n",
       "    <tr>\n",
       "      <th>25%</th>\n",
       "      <td>17.000000</td>\n",
       "    </tr>\n",
       "    <tr>\n",
       "      <th>50%</th>\n",
       "      <td>28.000000</td>\n",
       "    </tr>\n",
       "    <tr>\n",
       "      <th>75%</th>\n",
       "      <td>41.750000</td>\n",
       "    </tr>\n",
       "    <tr>\n",
       "      <th>max</th>\n",
       "      <td>259.000000</td>\n",
       "    </tr>\n",
       "  </tbody>\n",
       "</table>\n",
       "</div>"
      ],
      "text/plain": [
       "       Sequence_Length\n",
       "count        90.000000\n",
       "mean         41.744444\n",
       "std          45.320224\n",
       "min           1.000000\n",
       "25%          17.000000\n",
       "50%          28.000000\n",
       "75%          41.750000\n",
       "max         259.000000"
      ]
     },
     "execution_count": 62,
     "metadata": {},
     "output_type": "execute_result"
    }
   ],
   "source": [
    "# Calculate average sequence length from X_sequences\n",
    "seq_lengths = [seq.shape[0] for seq in X_sequences]\n",
    "# Convert sequence lengths to a DataFrame\n",
    "df_seq_lengths = pd.DataFrame(seq_lengths, columns=['Sequence_Length'])\n",
    "\n",
    "# Get statistical description\n",
    "print(\"Sequence Length Statistics:\")\n",
    "df_seq_lengths.describe()"
   ]
  },
  {
   "cell_type": "code",
   "execution_count": 82,
   "metadata": {},
   "outputs": [
    {
     "name": "stdout",
     "output_type": "stream",
     "text": [
      "Final X shape: (2663, 15, 132)\n",
      "Final y shape: (2663,)\n"
     ]
    }
   ],
   "source": [
    "X_seq_padded = []\n",
    "y_seq_labels = []\n",
    "\n",
    "for seq, label in zip(X_sequences, y_labels):\n",
    "    # get _all_ segments including the leftover tail\n",
    "    segs = segment_sequence_with_tail(\n",
    "        seq,\n",
    "        max_seq_len=MAX_SEQ_LEN,\n",
    "        stride=1\n",
    "    )\n",
    "    for s in segs:\n",
    "        X_seq_padded.append(s)\n",
    "        y_seq_labels.append(label)\n",
    "\n",
    "# X_seq_padded = np.array(X_seq_padded)    # shape (total_segments, MAX_SEQ_LEN, n_features)\n",
    "# y_seq_labels = np.array(y_seq_labels)    # shape (total_segments,)\n",
    "\n",
    "X_seq_padded = np.array(X_seq_padded, dtype=np.float32)\n",
    "y_seq_labels = np.array(LabelEncoder().fit_transform(y_seq_labels), dtype=np.int32)\n",
    "\n",
    "print(\"Final X shape:\", X_seq_padded.shape)      # (n_segments, MAX_SEQ_LEN, 132)\n",
    "print(\"Final y shape:\", y_seq_labels.shape)      # (n_segments,)\n"
   ]
  },
  {
   "cell_type": "markdown",
   "metadata": {},
   "source": [
    "Write to CSV file for visualization and analysis"
   ]
  },
  {
   "cell_type": "markdown",
   "metadata": {},
   "source": [
    "## 5. Encode Labels and Split Data\n",
    "\n",
    "We use LabelEncoder to convert \"Kicking\", \"Punching\", \"Non-violent\" into numeric IDs: e.g. 0, 1, 2.\n",
    "\n",
    "Then we split into train/test sets (e.g., 80/20) for fair evaluation.\n",
    "\n",
    "We store them as X_train, X_test, y_train, y_test."
   ]
  },
  {
   "cell_type": "code",
   "execution_count": 64,
   "metadata": {},
   "outputs": [
    {
     "name": "stdout",
     "output_type": "stream",
     "text": [
      "(1394,)\n",
      "Train shape: (1115, 15, 132) Test shape: (279, 15, 132)\n",
      "Train labels shape: (1115,) Test labels shape: (279,)\n"
     ]
    }
   ],
   "source": [
    "label_encoder = LabelEncoder()\n",
    "y_int = label_encoder.fit_transform(y_seq_labels)  \n",
    "# e.g. \"Kick\"->0, \"Punching\"->2, \"Standing\"->1 (the mapping depends on alphabetical order)\n",
    "\n",
    "# Convert to NumPy\n",
    "y_int = np.array(y_int)\n",
    "print(y_int.shape)\n",
    "\n",
    "# Train-test split\n",
    "X_train, X_test, y_train, y_test = train_test_split(\n",
    "    X_seq_padded, \n",
    "    y_int, \n",
    "    test_size=0.2, \n",
    "    stratify=y_int,  # keep classes balanced\n",
    "    random_state=42\n",
    ")\n",
    "\n",
    "print(\"Train shape:\", X_train.shape, \"Test shape:\", X_test.shape)\n",
    "print(\"Train labels shape:\", y_train.shape, \"Test labels shape:\", y_test.shape)"
   ]
  },
  {
   "cell_type": "markdown",
   "metadata": {},
   "source": [
    "## 6. Train and Evaluate Machine Learning Classification Model \n",
    "\n",
    "We create a sequential Keras model with an LSTM layer (64 units) returning sequences, followed by another LSTM (32 units), then a Dense layer for classification.\n",
    "\n",
    "Use sparse_categorical_crossentropy since we have integer labels (0, 1, 2).\n",
    "\n",
    "num_classes is the length of label_encoder.classes_."
   ]
  },
  {
   "cell_type": "code",
   "execution_count": 65,
   "metadata": {},
   "outputs": [
    {
     "name": "stdout",
     "output_type": "stream",
     "text": [
      "N: 1394 \n",
      "MAX_SEQ_LEN: 15 \n",
      "NUM_FEATURES: 132 \n",
      "num_classes: 3\n"
     ]
    }
   ],
   "source": [
    "N, MAX_SEQ_LEN, NUM_FEATURES = X_seq_padded.shape\n",
    "NUM_CLASSES = len(np.unique(y_int))\n",
    "\n",
    "PATIENCE = 8\n",
    "EPOCH = 20\n",
    "BATCH_SIZE = 8\n",
    "\n",
    "print(\"N:\", N, \"\\nMAX_SEQ_LEN:\", MAX_SEQ_LEN, \"\\nNUM_FEATURES:\", NUM_FEATURES, \"\\nnum_classes:\", NUM_CLASSES)"
   ]
  },
  {
   "cell_type": "markdown",
   "metadata": {},
   "source": [
    "### 6.1 Build Model & Hypermeters Tunining"
   ]
  },
  {
   "cell_type": "markdown",
   "metadata": {},
   "source": [
    "### 6.1 Build and Train LSTM Model\n",
    "\n",
    "**Dropout:** Applied to the non-recurrent connections within a layer. This means it randomly drops neurons (and their connections) during the forward pass in the current time step.\n",
    "+ Applies to the input connections going into the LSTM/GRU cell.\n",
    "+ At each time step t, some input features are randomly \"dropped\" (set to zero) with probability dropout.\n",
    "+ Helps prevent overfitting from relying too heavily on specific input features.\n",
    "\n",
    "**Recurrent Dropout:** Applied to the recurrent connections within a recurrent layer (like LSTM or GRU). This means it randomly drops connections between the recurrent units across time steps. \n",
    "+ Applies to the recurrent connections (i.e., the hidden state passed between time steps). \n",
    "+ At each time step t, some units in the hidden state are randomly dropped before being passed to the next time step.\n",
    "+ Helps prevent overfitting by regularizing how much the network can memorize across time steps."
   ]
  },
  {
   "cell_type": "code",
   "execution_count": 66,
   "metadata": {},
   "outputs": [],
   "source": [
    "from sklearn.model_selection import ParameterGrid\n",
    "import matplotlib.pyplot as plt\n",
    "\n",
    "import tensorflow as tf\n",
    "from tensorflow.keras import layers, regularizers\n",
    "from tensorflow.keras.models import Sequential"
   ]
  },
  {
   "cell_type": "code",
   "execution_count": 67,
   "metadata": {},
   "outputs": [],
   "source": [
    "def build_lstm_model(\n",
    "\tmax_seq_len=MAX_SEQ_LEN, \n",
    "\tnum_features=NUM_FEATURES, \n",
    "\tnum_classes=NUM_CLASSES,\n",
    "\tdropout_rate=0.4, \n",
    "\trecurrent_dropout_rate=0.4,\n",
    " \tl2_reg=1e-4\n",
    "):\n",
    "\tmodel = tf.keras.Sequential([\n",
    "\t\tlayers.Input(shape=(max_seq_len, num_features)),\n",
    "\t\tlayers.LSTM(64, return_sequences=True, \n",
    "\t\t\t\t   dropout=dropout_rate, recurrent_dropout=recurrent_dropout_rate,\n",
    "\t\t\t\t   kernel_regularizer=regularizers.l2(l2_reg)),\n",
    "\n",
    "\t\tlayers.LSTM(32, \n",
    "\t\t\t\t   dropout=dropout_rate, recurrent_dropout=recurrent_dropout_rate,\n",
    "\t\t\t\t   kernel_regularizer=regularizers.l2(l2_reg)),\n",
    "\t\t\n",
    "\t\tlayers.Dense(64, \n",
    "\t\t\t\t\tactivation='relu', \n",
    "\t\t\t\t\tkernel_regularizer=regularizers.l2(l2_reg)),\n",
    "\t\t\n",
    "  \t\tlayers.Dropout(0.5),\n",
    "\t\tlayers.Dense(num_classes, activation='softmax')\n",
    "\t])\n",
    "\tmodel.compile(\n",
    "\t\toptimizer='adam',\n",
    "\t\tloss='sparse_categorical_crossentropy',\n",
    "\t\tmetrics=['accuracy']\n",
    "\t)\n",
    "\treturn model"
   ]
  },
  {
   "cell_type": "code",
   "execution_count": 68,
   "metadata": {},
   "outputs": [
    {
     "data": {
      "text/html": [
       "<pre style=\"white-space:pre;overflow-x:auto;line-height:normal;font-family:Menlo,'DejaVu Sans Mono',consolas,'Courier New',monospace\"><span style=\"font-weight: bold\">Model: \"sequential_12\"</span>\n",
       "</pre>\n"
      ],
      "text/plain": [
       "\u001b[1mModel: \"sequential_12\"\u001b[0m\n"
      ]
     },
     "metadata": {},
     "output_type": "display_data"
    },
    {
     "data": {
      "text/html": [
       "<pre style=\"white-space:pre;overflow-x:auto;line-height:normal;font-family:Menlo,'DejaVu Sans Mono',consolas,'Courier New',monospace\">┏━━━━━━━━━━━━━━━━━━━━━━━━━━━━━━━━━┳━━━━━━━━━━━━━━━━━━━━━━━━┳━━━━━━━━━━━━━━━┓\n",
       "┃<span style=\"font-weight: bold\"> Layer (type)                    </span>┃<span style=\"font-weight: bold\"> Output Shape           </span>┃<span style=\"font-weight: bold\">       Param # </span>┃\n",
       "┡━━━━━━━━━━━━━━━━━━━━━━━━━━━━━━━━━╇━━━━━━━━━━━━━━━━━━━━━━━━╇━━━━━━━━━━━━━━━┩\n",
       "│ lstm_8 (<span style=\"color: #0087ff; text-decoration-color: #0087ff\">LSTM</span>)                   │ (<span style=\"color: #00d7ff; text-decoration-color: #00d7ff\">None</span>, <span style=\"color: #00af00; text-decoration-color: #00af00\">15</span>, <span style=\"color: #00af00; text-decoration-color: #00af00\">64</span>)         │        <span style=\"color: #00af00; text-decoration-color: #00af00\">50,432</span> │\n",
       "├─────────────────────────────────┼────────────────────────┼───────────────┤\n",
       "│ lstm_9 (<span style=\"color: #0087ff; text-decoration-color: #0087ff\">LSTM</span>)                   │ (<span style=\"color: #00d7ff; text-decoration-color: #00d7ff\">None</span>, <span style=\"color: #00af00; text-decoration-color: #00af00\">32</span>)             │        <span style=\"color: #00af00; text-decoration-color: #00af00\">12,416</span> │\n",
       "├─────────────────────────────────┼────────────────────────┼───────────────┤\n",
       "│ dense_24 (<span style=\"color: #0087ff; text-decoration-color: #0087ff\">Dense</span>)                │ (<span style=\"color: #00d7ff; text-decoration-color: #00d7ff\">None</span>, <span style=\"color: #00af00; text-decoration-color: #00af00\">64</span>)             │         <span style=\"color: #00af00; text-decoration-color: #00af00\">2,112</span> │\n",
       "├─────────────────────────────────┼────────────────────────┼───────────────┤\n",
       "│ dropout_12 (<span style=\"color: #0087ff; text-decoration-color: #0087ff\">Dropout</span>)            │ (<span style=\"color: #00d7ff; text-decoration-color: #00d7ff\">None</span>, <span style=\"color: #00af00; text-decoration-color: #00af00\">64</span>)             │             <span style=\"color: #00af00; text-decoration-color: #00af00\">0</span> │\n",
       "├─────────────────────────────────┼────────────────────────┼───────────────┤\n",
       "│ dense_25 (<span style=\"color: #0087ff; text-decoration-color: #0087ff\">Dense</span>)                │ (<span style=\"color: #00d7ff; text-decoration-color: #00d7ff\">None</span>, <span style=\"color: #00af00; text-decoration-color: #00af00\">3</span>)              │           <span style=\"color: #00af00; text-decoration-color: #00af00\">195</span> │\n",
       "└─────────────────────────────────┴────────────────────────┴───────────────┘\n",
       "</pre>\n"
      ],
      "text/plain": [
       "┏━━━━━━━━━━━━━━━━━━━━━━━━━━━━━━━━━┳━━━━━━━━━━━━━━━━━━━━━━━━┳━━━━━━━━━━━━━━━┓\n",
       "┃\u001b[1m \u001b[0m\u001b[1mLayer (type)                   \u001b[0m\u001b[1m \u001b[0m┃\u001b[1m \u001b[0m\u001b[1mOutput Shape          \u001b[0m\u001b[1m \u001b[0m┃\u001b[1m \u001b[0m\u001b[1m      Param #\u001b[0m\u001b[1m \u001b[0m┃\n",
       "┡━━━━━━━━━━━━━━━━━━━━━━━━━━━━━━━━━╇━━━━━━━━━━━━━━━━━━━━━━━━╇━━━━━━━━━━━━━━━┩\n",
       "│ lstm_8 (\u001b[38;5;33mLSTM\u001b[0m)                   │ (\u001b[38;5;45mNone\u001b[0m, \u001b[38;5;34m15\u001b[0m, \u001b[38;5;34m64\u001b[0m)         │        \u001b[38;5;34m50,432\u001b[0m │\n",
       "├─────────────────────────────────┼────────────────────────┼───────────────┤\n",
       "│ lstm_9 (\u001b[38;5;33mLSTM\u001b[0m)                   │ (\u001b[38;5;45mNone\u001b[0m, \u001b[38;5;34m32\u001b[0m)             │        \u001b[38;5;34m12,416\u001b[0m │\n",
       "├─────────────────────────────────┼────────────────────────┼───────────────┤\n",
       "│ dense_24 (\u001b[38;5;33mDense\u001b[0m)                │ (\u001b[38;5;45mNone\u001b[0m, \u001b[38;5;34m64\u001b[0m)             │         \u001b[38;5;34m2,112\u001b[0m │\n",
       "├─────────────────────────────────┼────────────────────────┼───────────────┤\n",
       "│ dropout_12 (\u001b[38;5;33mDropout\u001b[0m)            │ (\u001b[38;5;45mNone\u001b[0m, \u001b[38;5;34m64\u001b[0m)             │             \u001b[38;5;34m0\u001b[0m │\n",
       "├─────────────────────────────────┼────────────────────────┼───────────────┤\n",
       "│ dense_25 (\u001b[38;5;33mDense\u001b[0m)                │ (\u001b[38;5;45mNone\u001b[0m, \u001b[38;5;34m3\u001b[0m)              │           \u001b[38;5;34m195\u001b[0m │\n",
       "└─────────────────────────────────┴────────────────────────┴───────────────┘\n"
      ]
     },
     "metadata": {},
     "output_type": "display_data"
    },
    {
     "data": {
      "text/html": [
       "<pre style=\"white-space:pre;overflow-x:auto;line-height:normal;font-family:Menlo,'DejaVu Sans Mono',consolas,'Courier New',monospace\"><span style=\"font-weight: bold\"> Total params: </span><span style=\"color: #00af00; text-decoration-color: #00af00\">65,155</span> (254.51 KB)\n",
       "</pre>\n"
      ],
      "text/plain": [
       "\u001b[1m Total params: \u001b[0m\u001b[38;5;34m65,155\u001b[0m (254.51 KB)\n"
      ]
     },
     "metadata": {},
     "output_type": "display_data"
    },
    {
     "data": {
      "text/html": [
       "<pre style=\"white-space:pre;overflow-x:auto;line-height:normal;font-family:Menlo,'DejaVu Sans Mono',consolas,'Courier New',monospace\"><span style=\"font-weight: bold\"> Trainable params: </span><span style=\"color: #00af00; text-decoration-color: #00af00\">65,155</span> (254.51 KB)\n",
       "</pre>\n"
      ],
      "text/plain": [
       "\u001b[1m Trainable params: \u001b[0m\u001b[38;5;34m65,155\u001b[0m (254.51 KB)\n"
      ]
     },
     "metadata": {},
     "output_type": "display_data"
    },
    {
     "data": {
      "text/html": [
       "<pre style=\"white-space:pre;overflow-x:auto;line-height:normal;font-family:Menlo,'DejaVu Sans Mono',consolas,'Courier New',monospace\"><span style=\"font-weight: bold\"> Non-trainable params: </span><span style=\"color: #00af00; text-decoration-color: #00af00\">0</span> (0.00 B)\n",
       "</pre>\n"
      ],
      "text/plain": [
       "\u001b[1m Non-trainable params: \u001b[0m\u001b[38;5;34m0\u001b[0m (0.00 B)\n"
      ]
     },
     "metadata": {},
     "output_type": "display_data"
    }
   ],
   "source": [
    "build_lstm_model().summary()"
   ]
  },
  {
   "cell_type": "markdown",
   "metadata": {},
   "source": [
    "### 6.2. Build and Train GRU Model\n",
    "Similar to LSTM but we replace layers.LSTM with layers.GRU."
   ]
  },
  {
   "cell_type": "code",
   "execution_count": 69,
   "metadata": {},
   "outputs": [
    {
     "data": {
      "text/html": [
       "<pre style=\"white-space:pre;overflow-x:auto;line-height:normal;font-family:Menlo,'DejaVu Sans Mono',consolas,'Courier New',monospace\"><span style=\"font-weight: bold\">Model: \"sequential_13\"</span>\n",
       "</pre>\n"
      ],
      "text/plain": [
       "\u001b[1mModel: \"sequential_13\"\u001b[0m\n"
      ]
     },
     "metadata": {},
     "output_type": "display_data"
    },
    {
     "data": {
      "text/html": [
       "<pre style=\"white-space:pre;overflow-x:auto;line-height:normal;font-family:Menlo,'DejaVu Sans Mono',consolas,'Courier New',monospace\">┏━━━━━━━━━━━━━━━━━━━━━━━━━━━━━━━━━┳━━━━━━━━━━━━━━━━━━━━━━━━┳━━━━━━━━━━━━━━━┓\n",
       "┃<span style=\"font-weight: bold\"> Layer (type)                    </span>┃<span style=\"font-weight: bold\"> Output Shape           </span>┃<span style=\"font-weight: bold\">       Param # </span>┃\n",
       "┡━━━━━━━━━━━━━━━━━━━━━━━━━━━━━━━━━╇━━━━━━━━━━━━━━━━━━━━━━━━╇━━━━━━━━━━━━━━━┩\n",
       "│ gru_8 (<span style=\"color: #0087ff; text-decoration-color: #0087ff\">GRU</span>)                     │ (<span style=\"color: #00d7ff; text-decoration-color: #00d7ff\">None</span>, <span style=\"color: #00af00; text-decoration-color: #00af00\">15</span>, <span style=\"color: #00af00; text-decoration-color: #00af00\">64</span>)         │        <span style=\"color: #00af00; text-decoration-color: #00af00\">38,016</span> │\n",
       "├─────────────────────────────────┼────────────────────────┼───────────────┤\n",
       "│ gru_9 (<span style=\"color: #0087ff; text-decoration-color: #0087ff\">GRU</span>)                     │ (<span style=\"color: #00d7ff; text-decoration-color: #00d7ff\">None</span>, <span style=\"color: #00af00; text-decoration-color: #00af00\">32</span>)             │         <span style=\"color: #00af00; text-decoration-color: #00af00\">9,408</span> │\n",
       "├─────────────────────────────────┼────────────────────────┼───────────────┤\n",
       "│ dense_26 (<span style=\"color: #0087ff; text-decoration-color: #0087ff\">Dense</span>)                │ (<span style=\"color: #00d7ff; text-decoration-color: #00d7ff\">None</span>, <span style=\"color: #00af00; text-decoration-color: #00af00\">3</span>)              │            <span style=\"color: #00af00; text-decoration-color: #00af00\">99</span> │\n",
       "└─────────────────────────────────┴────────────────────────┴───────────────┘\n",
       "</pre>\n"
      ],
      "text/plain": [
       "┏━━━━━━━━━━━━━━━━━━━━━━━━━━━━━━━━━┳━━━━━━━━━━━━━━━━━━━━━━━━┳━━━━━━━━━━━━━━━┓\n",
       "┃\u001b[1m \u001b[0m\u001b[1mLayer (type)                   \u001b[0m\u001b[1m \u001b[0m┃\u001b[1m \u001b[0m\u001b[1mOutput Shape          \u001b[0m\u001b[1m \u001b[0m┃\u001b[1m \u001b[0m\u001b[1m      Param #\u001b[0m\u001b[1m \u001b[0m┃\n",
       "┡━━━━━━━━━━━━━━━━━━━━━━━━━━━━━━━━━╇━━━━━━━━━━━━━━━━━━━━━━━━╇━━━━━━━━━━━━━━━┩\n",
       "│ gru_8 (\u001b[38;5;33mGRU\u001b[0m)                     │ (\u001b[38;5;45mNone\u001b[0m, \u001b[38;5;34m15\u001b[0m, \u001b[38;5;34m64\u001b[0m)         │        \u001b[38;5;34m38,016\u001b[0m │\n",
       "├─────────────────────────────────┼────────────────────────┼───────────────┤\n",
       "│ gru_9 (\u001b[38;5;33mGRU\u001b[0m)                     │ (\u001b[38;5;45mNone\u001b[0m, \u001b[38;5;34m32\u001b[0m)             │         \u001b[38;5;34m9,408\u001b[0m │\n",
       "├─────────────────────────────────┼────────────────────────┼───────────────┤\n",
       "│ dense_26 (\u001b[38;5;33mDense\u001b[0m)                │ (\u001b[38;5;45mNone\u001b[0m, \u001b[38;5;34m3\u001b[0m)              │            \u001b[38;5;34m99\u001b[0m │\n",
       "└─────────────────────────────────┴────────────────────────┴───────────────┘\n"
      ]
     },
     "metadata": {},
     "output_type": "display_data"
    },
    {
     "data": {
      "text/html": [
       "<pre style=\"white-space:pre;overflow-x:auto;line-height:normal;font-family:Menlo,'DejaVu Sans Mono',consolas,'Courier New',monospace\"><span style=\"font-weight: bold\"> Total params: </span><span style=\"color: #00af00; text-decoration-color: #00af00\">47,523</span> (185.64 KB)\n",
       "</pre>\n"
      ],
      "text/plain": [
       "\u001b[1m Total params: \u001b[0m\u001b[38;5;34m47,523\u001b[0m (185.64 KB)\n"
      ]
     },
     "metadata": {},
     "output_type": "display_data"
    },
    {
     "data": {
      "text/html": [
       "<pre style=\"white-space:pre;overflow-x:auto;line-height:normal;font-family:Menlo,'DejaVu Sans Mono',consolas,'Courier New',monospace\"><span style=\"font-weight: bold\"> Trainable params: </span><span style=\"color: #00af00; text-decoration-color: #00af00\">47,523</span> (185.64 KB)\n",
       "</pre>\n"
      ],
      "text/plain": [
       "\u001b[1m Trainable params: \u001b[0m\u001b[38;5;34m47,523\u001b[0m (185.64 KB)\n"
      ]
     },
     "metadata": {},
     "output_type": "display_data"
    },
    {
     "data": {
      "text/html": [
       "<pre style=\"white-space:pre;overflow-x:auto;line-height:normal;font-family:Menlo,'DejaVu Sans Mono',consolas,'Courier New',monospace\"><span style=\"font-weight: bold\"> Non-trainable params: </span><span style=\"color: #00af00; text-decoration-color: #00af00\">0</span> (0.00 B)\n",
       "</pre>\n"
      ],
      "text/plain": [
       "\u001b[1m Non-trainable params: \u001b[0m\u001b[38;5;34m0\u001b[0m (0.00 B)\n"
      ]
     },
     "metadata": {},
     "output_type": "display_data"
    }
   ],
   "source": [
    "def build_gru_model(\n",
    "    max_seq_len=MAX_SEQ_LEN, \n",
    "    num_features=NUM_FEATURES, \n",
    "    num_classes=NUM_CLASSES,\n",
    "    dropout_rate=0.4, \n",
    "    recurrent_dropout_rate=0.4,\n",
    "\tl2_reg=1e-4\t\n",
    "):\n",
    "    model = tf.keras.Sequential([\n",
    "        layers.Input(shape=(max_seq_len, num_features)),\n",
    "        \n",
    "        layers.GRU(\n",
    "            \t\t64, return_sequences=True, \n",
    "\t\t\t\t\tdropout=dropout_rate, recurrent_dropout=recurrent_dropout_rate,\n",
    "        \t\t\tkernel_regularizer=regularizers.l2(l2_reg)),\n",
    "        layers.GRU(\n",
    "            \t\t32, \n",
    "\t\t\t\t\tdropout=dropout_rate, recurrent_dropout=recurrent_dropout_rate,\n",
    "\t\t\t\t\tkernel_regularizer=regularizers.l2(l2_reg)),\n",
    "       \n",
    "        layers.Dense(num_classes, activation='softmax')\n",
    "    ])\n",
    "    model.compile(\n",
    "        optimizer='adam',\n",
    "        loss='sparse_categorical_crossentropy',\n",
    "        metrics=['accuracy']\n",
    "    )\n",
    "    return model\n",
    "\n",
    "build_gru_model().summary()"
   ]
  },
  {
   "cell_type": "code",
   "execution_count": 70,
   "metadata": {},
   "outputs": [],
   "source": [
    "# And a model function (like the build_lstm_model above).\n",
    "# results_gru = kfold_validation(save_model_path=\"gru_model.h5\", model_fn=build_gru_model, epochs=20)\n",
    "# This prints out each fold's accuracy, confusion matrix, classification report\n",
    "# Then returns a dictionary with the final cross-validation results.\n"
   ]
  },
  {
   "cell_type": "markdown",
   "metadata": {},
   "source": [
    "### 6.3. Build and Train DNN Model (Flattened Sequence)"
   ]
  },
  {
   "cell_type": "code",
   "execution_count": 71,
   "metadata": {},
   "outputs": [],
   "source": [
    "def build_dnn_model(input_dims, num_classes=NUM_CLASSES, dropout_rates=(0.3, 0.2), l2_reg=1e-4):\n",
    "    \"\"\"\n",
    "    Returns a freshly compiled DNN model that exut_dim`.\n",
    "    The model outputs `num_classes` with 'softmax' for multi-class classification. \n",
    "    The `input_dim` is the number of features in the input data.\n",
    "\tThe `num_classes` is the number of classes for classification.\n",
    "    \n",
    "    dropout_rates is a tuple indicating the dropout after each Dense layer.\n",
    "    Example: (0.3, 0.2) => 30% dropout after first layer, 20% after second layer.\n",
    "    \"\"\"\n",
    "\n",
    "    model = tf.keras.Sequential([\n",
    "        layers.Input(shape=(input_dims,)),\n",
    "        layers.Dense(128, activation='relu', kernel_regularizer=regularizers.l2(l2_reg)),\n",
    "        layers.Dropout(dropout_rates[0]),\n",
    "        layers.Dense(64, activation='relu', kernel_regularizer=regularizers.l2(l2_reg)),\n",
    "        layers.Dropout(dropout_rates[1]),\n",
    "        layers.Dense(num_classes, activation='softmax')\n",
    "    ])\n",
    "\n",
    "    model.compile(\n",
    "        optimizer='adam',\n",
    "        loss='sparse_categorical_crossentropy',\n",
    "        metrics=['accuracy']\n",
    "    )\n",
    "    return model"
   ]
  },
  {
   "cell_type": "code",
   "execution_count": 72,
   "metadata": {},
   "outputs": [
    {
     "name": "stdout",
     "output_type": "stream",
     "text": [
      "Input dimension: 15\n"
     ]
    },
    {
     "data": {
      "text/html": [
       "<pre style=\"white-space:pre;overflow-x:auto;line-height:normal;font-family:Menlo,'DejaVu Sans Mono',consolas,'Courier New',monospace\"><span style=\"font-weight: bold\">Model: \"sequential_14\"</span>\n",
       "</pre>\n"
      ],
      "text/plain": [
       "\u001b[1mModel: \"sequential_14\"\u001b[0m\n"
      ]
     },
     "metadata": {},
     "output_type": "display_data"
    },
    {
     "data": {
      "text/html": [
       "<pre style=\"white-space:pre;overflow-x:auto;line-height:normal;font-family:Menlo,'DejaVu Sans Mono',consolas,'Courier New',monospace\">┏━━━━━━━━━━━━━━━━━━━━━━━━━━━━━━━━━┳━━━━━━━━━━━━━━━━━━━━━━━━┳━━━━━━━━━━━━━━━┓\n",
       "┃<span style=\"font-weight: bold\"> Layer (type)                    </span>┃<span style=\"font-weight: bold\"> Output Shape           </span>┃<span style=\"font-weight: bold\">       Param # </span>┃\n",
       "┡━━━━━━━━━━━━━━━━━━━━━━━━━━━━━━━━━╇━━━━━━━━━━━━━━━━━━━━━━━━╇━━━━━━━━━━━━━━━┩\n",
       "│ dense_27 (<span style=\"color: #0087ff; text-decoration-color: #0087ff\">Dense</span>)                │ (<span style=\"color: #00d7ff; text-decoration-color: #00d7ff\">None</span>, <span style=\"color: #00af00; text-decoration-color: #00af00\">128</span>)            │         <span style=\"color: #00af00; text-decoration-color: #00af00\">2,048</span> │\n",
       "├─────────────────────────────────┼────────────────────────┼───────────────┤\n",
       "│ dropout_13 (<span style=\"color: #0087ff; text-decoration-color: #0087ff\">Dropout</span>)            │ (<span style=\"color: #00d7ff; text-decoration-color: #00d7ff\">None</span>, <span style=\"color: #00af00; text-decoration-color: #00af00\">128</span>)            │             <span style=\"color: #00af00; text-decoration-color: #00af00\">0</span> │\n",
       "├─────────────────────────────────┼────────────────────────┼───────────────┤\n",
       "│ dense_28 (<span style=\"color: #0087ff; text-decoration-color: #0087ff\">Dense</span>)                │ (<span style=\"color: #00d7ff; text-decoration-color: #00d7ff\">None</span>, <span style=\"color: #00af00; text-decoration-color: #00af00\">64</span>)             │         <span style=\"color: #00af00; text-decoration-color: #00af00\">8,256</span> │\n",
       "├─────────────────────────────────┼────────────────────────┼───────────────┤\n",
       "│ dropout_14 (<span style=\"color: #0087ff; text-decoration-color: #0087ff\">Dropout</span>)            │ (<span style=\"color: #00d7ff; text-decoration-color: #00d7ff\">None</span>, <span style=\"color: #00af00; text-decoration-color: #00af00\">64</span>)             │             <span style=\"color: #00af00; text-decoration-color: #00af00\">0</span> │\n",
       "├─────────────────────────────────┼────────────────────────┼───────────────┤\n",
       "│ dense_29 (<span style=\"color: #0087ff; text-decoration-color: #0087ff\">Dense</span>)                │ (<span style=\"color: #00d7ff; text-decoration-color: #00d7ff\">None</span>, <span style=\"color: #00af00; text-decoration-color: #00af00\">3</span>)              │           <span style=\"color: #00af00; text-decoration-color: #00af00\">195</span> │\n",
       "└─────────────────────────────────┴────────────────────────┴───────────────┘\n",
       "</pre>\n"
      ],
      "text/plain": [
       "┏━━━━━━━━━━━━━━━━━━━━━━━━━━━━━━━━━┳━━━━━━━━━━━━━━━━━━━━━━━━┳━━━━━━━━━━━━━━━┓\n",
       "┃\u001b[1m \u001b[0m\u001b[1mLayer (type)                   \u001b[0m\u001b[1m \u001b[0m┃\u001b[1m \u001b[0m\u001b[1mOutput Shape          \u001b[0m\u001b[1m \u001b[0m┃\u001b[1m \u001b[0m\u001b[1m      Param #\u001b[0m\u001b[1m \u001b[0m┃\n",
       "┡━━━━━━━━━━━━━━━━━━━━━━━━━━━━━━━━━╇━━━━━━━━━━━━━━━━━━━━━━━━╇━━━━━━━━━━━━━━━┩\n",
       "│ dense_27 (\u001b[38;5;33mDense\u001b[0m)                │ (\u001b[38;5;45mNone\u001b[0m, \u001b[38;5;34m128\u001b[0m)            │         \u001b[38;5;34m2,048\u001b[0m │\n",
       "├─────────────────────────────────┼────────────────────────┼───────────────┤\n",
       "│ dropout_13 (\u001b[38;5;33mDropout\u001b[0m)            │ (\u001b[38;5;45mNone\u001b[0m, \u001b[38;5;34m128\u001b[0m)            │             \u001b[38;5;34m0\u001b[0m │\n",
       "├─────────────────────────────────┼────────────────────────┼───────────────┤\n",
       "│ dense_28 (\u001b[38;5;33mDense\u001b[0m)                │ (\u001b[38;5;45mNone\u001b[0m, \u001b[38;5;34m64\u001b[0m)             │         \u001b[38;5;34m8,256\u001b[0m │\n",
       "├─────────────────────────────────┼────────────────────────┼───────────────┤\n",
       "│ dropout_14 (\u001b[38;5;33mDropout\u001b[0m)            │ (\u001b[38;5;45mNone\u001b[0m, \u001b[38;5;34m64\u001b[0m)             │             \u001b[38;5;34m0\u001b[0m │\n",
       "├─────────────────────────────────┼────────────────────────┼───────────────┤\n",
       "│ dense_29 (\u001b[38;5;33mDense\u001b[0m)                │ (\u001b[38;5;45mNone\u001b[0m, \u001b[38;5;34m3\u001b[0m)              │           \u001b[38;5;34m195\u001b[0m │\n",
       "└─────────────────────────────────┴────────────────────────┴───────────────┘\n"
      ]
     },
     "metadata": {},
     "output_type": "display_data"
    },
    {
     "data": {
      "text/html": [
       "<pre style=\"white-space:pre;overflow-x:auto;line-height:normal;font-family:Menlo,'DejaVu Sans Mono',consolas,'Courier New',monospace\"><span style=\"font-weight: bold\"> Total params: </span><span style=\"color: #00af00; text-decoration-color: #00af00\">10,499</span> (41.01 KB)\n",
       "</pre>\n"
      ],
      "text/plain": [
       "\u001b[1m Total params: \u001b[0m\u001b[38;5;34m10,499\u001b[0m (41.01 KB)\n"
      ]
     },
     "metadata": {},
     "output_type": "display_data"
    },
    {
     "data": {
      "text/html": [
       "<pre style=\"white-space:pre;overflow-x:auto;line-height:normal;font-family:Menlo,'DejaVu Sans Mono',consolas,'Courier New',monospace\"><span style=\"font-weight: bold\"> Trainable params: </span><span style=\"color: #00af00; text-decoration-color: #00af00\">10,499</span> (41.01 KB)\n",
       "</pre>\n"
      ],
      "text/plain": [
       "\u001b[1m Trainable params: \u001b[0m\u001b[38;5;34m10,499\u001b[0m (41.01 KB)\n"
      ]
     },
     "metadata": {},
     "output_type": "display_data"
    },
    {
     "data": {
      "text/html": [
       "<pre style=\"white-space:pre;overflow-x:auto;line-height:normal;font-family:Menlo,'DejaVu Sans Mono',consolas,'Courier New',monospace\"><span style=\"font-weight: bold\"> Non-trainable params: </span><span style=\"color: #00af00; text-decoration-color: #00af00\">0</span> (0.00 B)\n",
       "</pre>\n"
      ],
      "text/plain": [
       "\u001b[1m Non-trainable params: \u001b[0m\u001b[38;5;34m0\u001b[0m (0.00 B)\n"
      ]
     },
     "metadata": {},
     "output_type": "display_data"
    }
   ],
   "source": [
    "input_dim = X_train.shape[1]\n",
    "print(\"Input dimension:\", input_dim)\n",
    "build_dnn_model(input_dim).summary()"
   ]
  },
  {
   "cell_type": "markdown",
   "metadata": {},
   "source": [
    "# 7. Evaluation and Comparison\n",
    "After training, we evaluate each model on the test set.\n",
    "\n",
    "For LSTM/GRU, we can feed X_test in its (N, 30, 132) shape.\n",
    "\n",
    "For DNN, we feed the flattened X_test_dnn.\n",
    "\n",
    "Note: Compare before and after dropout"
   ]
  },
  {
   "cell_type": "code",
   "execution_count": 73,
   "metadata": {},
   "outputs": [],
   "source": [
    "param_grid = {'dropout_rate': [0.3, 0.4, 0.5]}\n",
    "grid = list(ParameterGrid(param_grid))"
   ]
  },
  {
   "cell_type": "code",
   "execution_count": 74,
   "metadata": {},
   "outputs": [],
   "source": [
    "from tqdm import tqdm"
   ]
  },
  {
   "cell_type": "code",
   "execution_count": 75,
   "metadata": {},
   "outputs": [],
   "source": [
    "# 1) Pre‑flatten for DNN once\n",
    "X_train_flat = X_train.reshape((X_train.shape[0], -1))\n",
    "X_test_flat  = X_test.reshape((X_test.shape[0], -1))\n",
    "\n",
    "# 2) Parameter grid\n",
    "dropouts = [0.3, 0.4, 0.5]\n",
    "grid     = ParameterGrid({'dropout_rate': dropouts})\n",
    "\n",
    "# 3) Map each model type to its builder and input dims\n",
    "builders = {\n",
    "    'lstm': (build_lstm_model, (MAX_SEQ_LEN, NUM_FEATURES, NUM_CLASSES)),\n",
    "    'gru':  (build_gru_model,  (MAX_SEQ_LEN, NUM_FEATURES, NUM_CLASSES)),\n",
    "    'dnn':  (build_dnn_model,  (X_train_flat.shape[1], NUM_CLASSES))\n",
    "}\n",
    "\n",
    "results = []"
   ]
  },
  {
   "cell_type": "code",
   "execution_count": 77,
   "metadata": {},
   "outputs": [
    {
     "name": "stderr",
     "output_type": "stream",
     "text": [
      "                                                        \r"
     ]
    }
   ],
   "source": [
    "\n",
    "#? 4) Grid search with a single fit() per model\n",
    "for model_type, (builder, dims) in builders.items():\n",
    "\tfor p in tqdm(grid, desc=f'{model_type} grid', leave=False):\n",
    "\t\tdr = p['dropout_rate']\n",
    "\t\t\n",
    "\t\t# Instantiate model\n",
    "\t\tif model_type in ('lstm', 'gru'):\n",
    "\t\t\tmodel = builder(\n",
    "\t\t\t\t*dims,\n",
    "\t\t\t\tdropout_rate=dr,\n",
    "\t\t\t\trecurrent_dropout_rate=dr\n",
    "\t\t\t)\n",
    "\t\t\tXtr, Xte = X_train, X_test\n",
    "\t\t\tytr, yte = y_train, y_test\n",
    "\t\telse:  # dnn\n",
    "\t\t\tmodel = builder(\n",
    "\t\t\t\t*dims,\n",
    "\t\t\t\tdropout_rates=(dr, dr)\n",
    "\t\t\t)\n",
    "\t\t\tXtr, Xte = X_train_flat, X_test_flat\n",
    "\t\t\tytr, yte = y_train, y_test\n",
    "\t\t\n",
    "\t\t# Train once with validation_data\n",
    "\t\thist = model.fit(\n",
    "\t\t\tXtr, ytr,\n",
    "\t\t\tvalidation_data=(Xte, yte),\n",
    "\t\t\tepochs=5,\n",
    "\t\t\tbatch_size=8,\n",
    "\t\t\tverbose=0\n",
    "\t\t)\n",
    "\t\t\n",
    "\t\t# Extract final accuracies\n",
    "\t\ttrain_acc = hist.history['accuracy'][-1]\n",
    "\t\ttest_acc  = hist.history['val_accuracy'][-1]\n",
    "\t\t\n",
    "\t\t# Save the trained model to .h5 for later inference\n",
    "\t\tfilename = f\"model_weights\\{model_type}_dr{int(dr*100)}.keras\"\n",
    "\t\tmodel.save(filename)\n",
    "\t\t\n",
    "\t\tresults.append({\n",
    "\t\t\t'model':        model_type,\n",
    "\t\t\t'dropout_rate': dr,\n",
    "\t\t\t'train_acc':    train_acc,\n",
    "\t\t\t'test_acc':     test_acc,\n",
    "\t\t\t'saved_file':   filename\n",
    "\t\t})"
   ]
  },
  {
   "cell_type": "code",
   "execution_count": 78,
   "metadata": {},
   "outputs": [
    {
     "name": "stdout",
     "output_type": "stream",
     "text": [
      "  model  dropout_rate  train_acc  test_acc                     saved_file\n",
      "0  lstm           0.3   0.711211  0.792115  model_weights\\lstm_dr30.keras\n",
      "1  lstm           0.4   0.647534  0.745520  model_weights\\lstm_dr40.keras\n",
      "2  lstm           0.5   0.586547  0.670251  model_weights\\lstm_dr50.keras\n",
      "3   gru           0.3   0.750673  0.835125   model_weights\\gru_dr30.keras\n",
      "4   gru           0.4   0.684305  0.831541   model_weights\\gru_dr40.keras\n",
      "5   gru           0.5   0.605381  0.720430   model_weights\\gru_dr50.keras\n",
      "6   dnn           0.3   0.746188  0.870968   model_weights\\dnn_dr30.keras\n",
      "7   dnn           0.4   0.632287  0.795699   model_weights\\dnn_dr40.keras\n",
      "8   dnn           0.5   0.568610  0.781362   model_weights\\dnn_dr50.keras\n"
     ]
    }
   ],
   "source": [
    "# Summarize\n",
    "df = pd.DataFrame(results)\n",
    "print(df)"
   ]
  },
  {
   "cell_type": "code",
   "execution_count": 79,
   "metadata": {},
   "outputs": [
    {
     "data": {
      "image/png": "[encoded data removed]",
      "text/plain": [
       "<Figure size 640x480 with 1 Axes>"
      ]
     },
     "metadata": {},
     "output_type": "display_data"
    },
    {
     "data": {
      "image/png": "[encoded data removed]",
      "text/plain": [
       "<Figure size 640x480 with 1 Axes>"
      ]
     },
     "metadata": {},
     "output_type": "display_data"
    },
    {
     "data": {
      "image/png": "[encoded data removed]",
      "text/plain": [
       "<Figure size 640x480 with 1 Axes>"
      ]
     },
     "metadata": {},
     "output_type": "display_data"
    }
   ],
   "source": [
    "# Plot Test Accuracy vs. Dropout Rate\n",
    "for model_type in df['model'].unique():\n",
    "    subset = df[df['model'] == model_type]\n",
    "    plt.figure()\n",
    "    plt.plot(subset['dropout_rate'], subset['test_acc'], marker='o')\n",
    "    plt.title(f'{model_type.upper()} Test Accuracy vs Dropout Rate')\n",
    "    plt.xlabel('Dropout Rate')\n",
    "    plt.ylabel('Test Accuracy')\n",
    "    plt.xticks(subset['dropout_rate'])\n",
    "    plt.ylim(0, 1.0)\n",
    "    plt.show()"
   ]
  },
  {
   "cell_type": "markdown",
   "metadata": {},
   "source": [
    "# 5. Make Detection"
   ]
  },
  {
   "cell_type": "code",
   "execution_count": 12,
   "metadata": {},
   "outputs": [],
   "source": [
    "import cv2 as cv\n",
    "import numpy as np\n",
    "import collections\n",
    "import tensorflow as tf\n",
    "import mediapipe as mp\n",
    "\n",
    "# 1) Define constants (must match your training setup)\n",
    "MAX_SEQ_LEN   = 15\n",
    "NUM_FEATURES  = 33 * 4   # 33 landmarks × (x,y,z,visibility)\n",
    "CLASSES = [\"Kicking\", \"Punching\", \"Standing\"]\n",
    "VIS_THRESH     = 0.3      # visibility threshold\n",
    "PUNCH_SPEED_T  = 0.1     # normalized‐coords/frame threshold for punching\n",
    "KICK_SPEED_T   = 0.1     # normalized‐coords/frame threshold for kicking\n",
    "\n",
    "# 2) Load your trained models\n",
    "lstm_model = tf.keras.models.load_model(\"model_weights/lstm_dr50.keras\")\n",
    "gru_model  = tf.keras.models.load_model(\"model_weights/gru_dr50.keras\")\n",
    "dnn_model  = tf.keras.models.load_model(\"model_weights/dnn_dr50.keras\")\n",
    "\n",
    "# Pick which to use:\n",
    "infer_model = lstm_model  # or gru_model, or dnn_model"
   ]
  },
  {
   "cell_type": "code",
   "execution_count": 13,
   "metadata": {},
   "outputs": [],
   "source": [
    "# Landmark indices\n",
    "WRISTS = [\n",
    "    mp.solutions.pose.PoseLandmark.LEFT_WRIST.value,\n",
    "    mp.solutions.pose.PoseLandmark.RIGHT_WRIST.value\n",
    "]\n",
    "KNEES  = [\n",
    "    mp.solutions.pose.PoseLandmark.LEFT_KNEE.value,\n",
    "    mp.solutions.pose.PoseLandmark.RIGHT_KNEE.value\n",
    "]\n",
    "ANKLES = [\n",
    "    mp.solutions.pose.PoseLandmark.LEFT_ANKLE.value,\n",
    "    mp.solutions.pose.PoseLandmark.RIGHT_ANKLE.value\n",
    "]"
   ]
  },
  {
   "cell_type": "code",
   "execution_count": null,
   "metadata": {},
   "outputs": [],
   "source": [
    "# Helper to compute max 2D speed in a buffer for given landmark indices\n",
    "def max_landmark_speed(buffer, landmark_idxs):\n",
    "    \"\"\"\n",
    "    buffer: deque of length MAX_SEQ_LEN, each element is flat [x1,y1,z1,vis1,...]\n",
    "    \n",
    "    xi, yi: is in the range [0 … 1], where 1.0 means “100% of the frame width” (for x) \n",
    "\t\t\tor “100% of the frame height” (for y).\n",
    "    \n",
    "    landmark_idxs: list of landmark indices to check (0-based 0–32)\n",
    "    returns: max Euclidean speed (in normalized coords per frame)\n",
    "    \"\"\"\n",
    "    seq = np.array(buffer, dtype=np.float32)  # shape (T, 132)\n",
    "    # extract only x,y coords for our landmarks\n",
    "    speeds = []\n",
    "    for lm in landmark_idxs:\n",
    "        #? xi, yi is the normalized‐coordinate units per frame, \n",
    "        #? \n",
    "        xi = seq[:, lm*4 + 0]  # x\n",
    "        yi = seq[:, lm*4 + 1]  # y\n",
    "        # compute displacements between successive frames\n",
    "        dx = np.diff(xi)\n",
    "        dy = np.diff(yi)\n",
    "        dist = np.sqrt(dx*dx + dy*dy)  # length T-1\n",
    "        speeds.append(dist)\n",
    "    # stack all speeds and return the overall max\n",
    "    if speeds:\n",
    "        return float(np.max(np.stack(speeds)))\n",
    "    else:\n",
    "        return 0.0"
   ]
  },
  {
   "cell_type": "code",
   "execution_count": 15,
   "metadata": {},
   "outputs": [],
   "source": [
    "# Helper to compute max 2D speed in a buffer for given landmark indices\n",
    "def max_landmark_speed(buffer, landmark_idxs):\n",
    "    \"\"\"\n",
    "    buffer: deque of length MAX_SEQ_LEN, each element is flat [x1,y1,z1,vis1,...]\n",
    "    landmark_idxs: list of landmark indices to check (0-based 0–32)\n",
    "    returns: max Euclidean speed (in normalized coords per frame)\n",
    "    \"\"\"\n",
    "    seq = np.array(buffer, dtype=np.float32)  # shape (T, 132)\n",
    "    # extract only x,y coords for our landmarks\n",
    "    speeds = []\n",
    "    for lm in landmark_idxs:\n",
    "        xi = seq[:, lm*4 + 0]  # x\n",
    "        yi = seq[:, lm*4 + 1]  # y\n",
    "        # compute displacements between successive frames\n",
    "        dx = np.diff(xi)\n",
    "        dy = np.diff(yi)\n",
    "        dist = np.sqrt(dx*dx + dy*dy)  # length T-1\n",
    "        speeds.append(dist)\n",
    "    # stack all speeds and return the overall max\n",
    "    if speeds:\n",
    "        return float(np.max(np.stack(speeds)))\n",
    "    else:\n",
    "        return 0.0"
   ]
  },
  {
   "cell_type": "code",
   "execution_count": 16,
   "metadata": {},
   "outputs": [],
   "source": [
    "# === MediaPipe setup ===\n",
    "mp_pose = mp.solutions.pose\n",
    "pose    = mp_pose.Pose(min_detection_confidence=0.5,\n",
    "                       min_tracking_confidence=0.5)\n",
    "\n",
    "# === Rolling buffer ===\n",
    "buffer = collections.deque(maxlen=MAX_SEQ_LEN)\n",
    "\n",
    "# === Webcam ===\n",
    "cap = cv.VideoCapture(0)\n",
    "cap.set(cv.CAP_PROP_FRAME_WIDTH,  960)\n",
    "cap.set(cv.CAP_PROP_FRAME_HEIGHT, 720)\n",
    "\n",
    "while True:\n",
    "    ret, frame = cap.read()\n",
    "    if not ret:\n",
    "        break\n",
    "\n",
    "    frame = cv.resize(frame, (960, 720))\n",
    "    rgb     = cv.cvtColor(frame, cv.COLOR_BGR2RGB)\n",
    "    results = pose.process(rgb)\n",
    "\n",
    "    # 1) Extract keypoints or zeros\n",
    "    if results.pose_landmarks:\n",
    "        keypoints = []\n",
    "        for lm in results.pose_landmarks.landmark:\n",
    "            keypoints.extend([lm.x, lm.y, lm.z, lm.visibility])\n",
    "    else:\n",
    "        keypoints = [0.0] * NUM_FEATURES\n",
    "\n",
    "    buffer.append(keypoints)\n",
    "\n",
    "    # Default label\n",
    "    label = \"Warming up...\"\n",
    "\n",
    "    # 2) When we have enough frames, do conditional + model inference\n",
    "    if len(buffer) == MAX_SEQ_LEN:\n",
    "        # Check visibility of WRISTS/ANKLES first\n",
    "        has_limbs = False\n",
    "        if results.pose_landmarks:\n",
    "            for idx in WRISTS + ANKLES:\n",
    "                if results.pose_landmarks.landmark[idx].visibility >= VIS_THRESH:\n",
    "                    has_limbs = True\n",
    "                    break\n",
    "\n",
    "        if not has_limbs:\n",
    "            # No hands/feet visible → Non‑violent\n",
    "            class_name, confidence = \"Non‑violent\", 100.0\n",
    "        else:\n",
    "            # Run your model\n",
    "            seq = np.array(buffer, dtype=np.float32)\n",
    "            if infer_model.input_shape[-1] == seq.size:\n",
    "                seq_input = seq.reshape(1, -1)\n",
    "            else:\n",
    "                seq_input = seq[np.newaxis, ...]\n",
    "            preds      = infer_model.predict(seq_input, verbose=0)[0]\n",
    "            class_id   = int(np.argmax(preds))\n",
    "            confidence = float(preds[class_id] * 100)\n",
    "            class_name = CLASSES[class_id]\n",
    "\n",
    "            # 3) Motion‐speed check override\n",
    "            if class_name == \"Punching\":\n",
    "                speed = max_landmark_speed(buffer, WRISTS)\n",
    "                if speed < PUNCH_SPEED_T:\n",
    "                    class_name, confidence = \"Non‑violent\", 100.0\n",
    "            elif class_name == \"Kicking\":\n",
    "                # check both knees and ankles\n",
    "                speed_knee  = max_landmark_speed(buffer, KNEES)\n",
    "                speed_ankle = max_landmark_speed(buffer, ANKLES)\n",
    "                if max(speed_knee, speed_ankle) < KICK_SPEED_T:\n",
    "                    class_name, confidence = \"Non‑violent\", 100.0\n",
    "\n",
    "        label = f\"{class_name} ({confidence:.1f}%)\"\n",
    "\n",
    "    # 4) Draw\n",
    "    cv.putText(frame, label, (30, 50),\t\n",
    "               cv.FONT_HERSHEY_SIMPLEX, 1.2, (0,255,0), 3)\n",
    "    if results.pose_landmarks:\n",
    "        mp.solutions.drawing_utils.draw_landmarks(\n",
    "            frame, results.pose_landmarks, mp_pose.POSE_CONNECTIONS,\n",
    "            landmark_drawing_spec=mp.solutions.drawing_utils.DrawingSpec((245,117,66),2,2),\n",
    "            connection_drawing_spec=mp.solutions.drawing_utils.DrawingSpec((245,66,230),2,2)\n",
    "        )\n",
    "\n",
    "    cv.imshow(\"Live Action Detection\", frame)\n",
    "    if cv.waitKey(1) & 0xFF == ord('q'):\n",
    "        break\n",
    "\n",
    "cap.release()\n",
    "cv.destroyAllWindows()\n",
    "pose.close()"
   ]
  },
  {
   "cell_type": "markdown",
   "metadata": {},
   "source": [
    "\n",
    "\n",
    "\n",
    "\n",
    "### Test on Video"
   ]
  },
  {
   "cell_type": "code",
   "execution_count": null,
   "metadata": {},
   "outputs": [],
   "source": [
    "# Use the test_video_paths that's already defined in the context\n",
    "# test_video_path = \"Single_person_violent\\Punching\\punching1.mp4\"\n",
    "test_video_path = \"Single_person_violent\\Standing\\\\video_0_flip.avi\"\n",
    "print(f\"Processing: {os.path.basename(test_video_path)}\")\n",
    "\n",
    "# Initialize MediaPipe Pose\n",
    "mp_pose = mp.solutions.pose\n",
    "pose = mp_pose.Pose(\n",
    "\tmin_detection_confidence=0.5,\n",
    "\tmin_tracking_confidence=0.5,\n",
    "\tmodel_complexity=1\n",
    ")\n",
    "\n",
    "# Open video file\n",
    "cap = cv.VideoCapture(test_video_path)\n",
    "\n",
    "# Buffer to store latest MAX_SEQ_LEN frames of keypoints\n",
    "buffer = collections.deque(maxlen=MAX_SEQ_LEN)\n",
    "\n",
    "while True:\n",
    "\tret, frame = cap.read()\n",
    "\tif not ret:\n",
    "\t\tbreak\n",
    "\n",
    "\t# ✅ Step 1: Rotate landscape to vertical\n",
    "\tframe = ensure_vertical_orientation(frame)\n",
    "\n",
    "\t# ✅ Step 2: Resize to 720x1280 for consistency\n",
    "\tframe = resize_frame(frame, target_width=720, target_height=1280)\n",
    "\n",
    "\t# Convert to RGB and get pose\n",
    "\trgb = cv.cvtColor(frame, cv.COLOR_BGR2RGB)\n",
    "\tresults = pose.process(rgb)\n",
    "\n",
    "\t# Extract pose keypoints\n",
    "\tif results.pose_landmarks:\n",
    "\t\tkeypoints = []\n",
    "\t\tfor lm in results.pose_landmarks.landmark:\n",
    "\t\t\tkeypoints.extend([lm.x, lm.y, lm.z, lm.visibility])\n",
    "\telse:\n",
    "\t\tkeypoints = [0] * NUM_FEATURES\n",
    "\n",
    "\t# Add keypoints to buffer\n",
    "\tbuffer.append(keypoints)\n",
    "\n",
    "\tif len(buffer) == MAX_SEQ_LEN:\n",
    "\t\tseq = np.array(buffer)\n",
    "\n",
    "\t\tif infer_model == dnn_infer_model:\n",
    "\t\t\tseq_input = seq.reshape(1, -1)  # DNN input shape: (1, 660)\n",
    "\t\telse:\n",
    "\t\t\tseq_input = np.expand_dims(seq, axis=0)  # LSTM/GRU input shape: (1, 5, 132)\n",
    "\n",
    "\t\tpred = infer_model.predict(seq_input, verbose=0)\n",
    "\t\tclass_id = np.argmax(pred)\n",
    "\t\tconfidence = float(pred[0][class_id]) * 100\n",
    "\t\tclass_name = CLASSES[class_id]\n",
    "\n",
    "\t\tif class_name == \"Standing\":\n",
    "\t\t\tdisplay_text = f\"{class_name} ({confidence:.1f}%), Non-Violent\"\n",
    "\t\telse:\n",
    "\t\t\tdisplay_text = f\"{class_name} ({confidence:.1f}%), Violent\"\n",
    "\n",
    "\t\t# Show prediction on frame\n",
    "\t\tcv.putText(frame, f'Action: {display_text}', (30, 50),\n",
    "\t\t\t\t   cv.FONT_HERSHEY_SIMPLEX, 1.2, (0, 255, 0), 3)\n",
    "\n",
    "\t# Draw pose landmarks\n",
    "\tif results.pose_landmarks:\n",
    "\t\tmp.solutions.drawing_utils.draw_landmarks(\n",
    "\t\t\tframe,\n",
    "\t\t\tresults.pose_landmarks,\n",
    "\t\t\tmp_pose.POSE_CONNECTIONS,\n",
    "\t\t\tlandmark_drawing_spec=mp.solutions.drawing_utils.DrawingSpec(color=(245, 117, 66), thickness=2, circle_radius=2),\n",
    "\t\t\tconnection_drawing_spec=mp.solutions.drawing_utils.DrawingSpec(color=(245, 66, 230), thickness=2, circle_radius=2)\n",
    "\t\t)\n",
    "\n",
    "\t# Display the frame\n",
    "\tcv.imshow(f\"Action Detection - {os.path.basename(test_video_path)}\", frame)\n",
    "\n",
    "\t# Press 'q' to exit\n",
    "\tif cv.waitKey(1) & 0xFF == ord('q'):\n",
    "\t\tbreak\n",
    "\n",
    "# Cleanup\n",
    "cap.release()\n",
    "cv.destroyAllWindows()\n",
    "pose.close()\n"
   ]
  }
 ],
 "metadata": {
  "kernelspec": {
   "display_name": "mediapipe_pose",
   "language": "python",
   "name": "python3"
  },
  "language_info": {
   "codemirror_mode": {
    "name": "ipython",
    "version": 3
   },
   "file_extension": ".py",
   "mimetype": "text/x-python",
   "name": "python",
   "nbconvert_exporter": "python",
   "pygments_lexer": "ipython3",
   "version": "3.10.16"
  }
 },
 "nbformat": 4,
 "nbformat_minor": 2
}
